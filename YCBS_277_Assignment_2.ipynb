{
  "nbformat": 4,
  "nbformat_minor": 0,
  "metadata": {
    "colab": {
      "name": "Copy of YCBS_277_Assignment_1.ipynb",
      "provenance": [],
      "collapsed_sections": [],
      "include_colab_link": true
    },
    "kernelspec": {
      "name": "python3",
      "display_name": "Python 3"
    }
  },
  "cells": [
    {
      "cell_type": "markdown",
      "metadata": {
        "id": "view-in-github",
        "colab_type": "text"
      },
      "source": [
        "<a href=\"https://colab.research.google.com/github/arbi11/YCBS-277/blob/master/YCBS_277_Assignment_2.ipynb\" target=\"_parent\"><img src=\"https://colab.research.google.com/assets/colab-badge.svg\" alt=\"Open In Colab\"/></a>"
      ]
    },
    {
      "cell_type": "markdown",
      "metadata": {
        "id": "47U3_faiYgaR",
        "colab_type": "text"
      },
      "source": [
        "#Instructions for Assignment 2\n",
        "\n",
        "\n",
        "1.   All the submissions should be attempted individually.\n",
        "\n",
        "2.   Please submit the assignment on mycources. In case of any issues, you can submit the assignment (jupyter notebook) to arbaaz.khan@mail.mcgill.ca \n",
        "\n",
        "3.   Please follow the McGill Integrity code, through out the process of the notebook. Read for more info: [Academic Integrity](https://www.mcgill.ca/deanofstudents/students/student-rights-responsibilities/integrity)\n",
        "\n",
        "4.   A student should be able to **replicate** the results in front of a TA or the Instructor, if asked. If you code is dependent on hyperparameters values, then include appropriate seeding.\n",
        "\n",
        "5.   You can add text/code cells as per your need.\n",
        "\n",
        "6.   Additional marks for clean and well commented code.\n",
        "\n",
        "7.   Please explain any assumption made during the exercise.\n",
        "\n",
        "7.   Maximum points associated with this assignment = 15.\n",
        "\n",
        "\n",
        "\n",
        "\n",
        "\n",
        "\n"
      ]
    },
    {
      "cell_type": "markdown",
      "metadata": {
        "id": "JxKUmtD4VSG_",
        "colab_type": "text"
      },
      "source": [
        "# 1. Train a dense (feed-forward) neural network for the classification task on MNIST dataset\n",
        "[5 points]"
      ]
    },
    {
      "cell_type": "markdown",
      "metadata": {
        "id": "AVYFXPgpUQbp",
        "colab_type": "text"
      },
      "source": [
        "# Loading the necessary data"
      ]
    },
    {
      "cell_type": "code",
      "metadata": {
        "id": "TJBvHpojUORr",
        "colab_type": "code",
        "colab": {}
      },
      "source": [
        "from keras.datasets import mnist"
      ],
      "execution_count": 0,
      "outputs": []
    },
    {
      "cell_type": "code",
      "metadata": {
        "id": "uR3QIU42VHEC",
        "colab_type": "code",
        "colab": {}
      },
      "source": [
        "# the data, split between train and test sets\n",
        "(x_train_MNIST, y_train_MNIST), (x_test_MNIST, y_test_MNIST) = mnist.load_data()"
      ],
      "execution_count": 0,
      "outputs": []
    },
    {
      "cell_type": "markdown",
      "metadata": {
        "id": "qY5cc2QyaU86",
        "colab_type": "text"
      },
      "source": [
        ""
      ]
    },
    {
      "cell_type": "markdown",
      "metadata": {
        "id": "DTiqtnEUVlQS",
        "colab_type": "text"
      },
      "source": [
        "# 2. Train a CNN for the dataset of CIFAR-10\n",
        "\n",
        "[5 points]"
      ]
    },
    {
      "cell_type": "markdown",
      "metadata": {
        "colab_type": "text",
        "id": "p91Yj7Tt-Ymf"
      },
      "source": [
        "# Loading the necessary data"
      ]
    },
    {
      "cell_type": "code",
      "metadata": {
        "id": "GQFQgHCwV_Tx",
        "colab_type": "code",
        "colab": {}
      },
      "source": [
        "from keras.datasets import cifar10\n"
      ],
      "execution_count": 0,
      "outputs": []
    },
    {
      "cell_type": "code",
      "metadata": {
        "id": "O_KrIPGJWPDp",
        "colab_type": "code",
        "colab": {}
      },
      "source": [
        "(x_train_c10, y_train_c10), (x_test_c10, y_test_c10) = cifar10.load_data()\n"
      ],
      "execution_count": 0,
      "outputs": []
    },
    {
      "cell_type": "markdown",
      "metadata": {
        "id": "-oG2Y7hsXAdi",
        "colab_type": "text"
      },
      "source": [
        "# 3. Use GA/PSO to train an AI agent to solve the 'FrozenLake-v0' environment from AI Gym [env](https://gym.openai.com/envs/FrozenLake-v0/)\n",
        "\n",
        "[5 point]\n",
        "\n",
        "'FrozenLake-v0' is considered \"solved\" when the agent obtains an average reward of at least 0.78 over 100 consecutive episodes"
      ]
    },
    {
      "cell_type": "code",
      "metadata": {
        "id": "-1aCZfgxA4JE",
        "colab_type": "code",
        "colab": {}
      },
      "source": [
        ""
      ],
      "execution_count": 0,
      "outputs": []
    }
  ]
}