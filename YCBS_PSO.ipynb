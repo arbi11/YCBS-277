{
  "nbformat": 4,
  "nbformat_minor": 0,
  "metadata": {
    "colab": {
      "name": "YCBS PSO.ipynb",
      "provenance": [],
      "collapsed_sections": [],
      "authorship_tag": "ABX9TyP9DJf0YOmOhJW6vxiPwA8z",
      "include_colab_link": true
    },
    "kernelspec": {
      "name": "python3",
      "display_name": "Python 3"
    }
  },
  "cells": [
    {
      "cell_type": "markdown",
      "metadata": {
        "id": "view-in-github",
        "colab_type": "text"
      },
      "source": [
        "<a href=\"https://colab.research.google.com/github/arbi11/YCBS-277/blob/master/YCBS_PSO.ipynb\" target=\"_parent\"><img src=\"https://colab.research.google.com/assets/colab-badge.svg\" alt=\"Open In Colab\"/></a>"
      ]
    },
    {
      "cell_type": "code",
      "metadata": {
        "id": "wOJA4v1gY22V",
        "colab_type": "code",
        "colab": {
          "base_uri": "https://localhost:8080/",
          "height": 119
        },
        "outputId": "41474055-3d5c-4e5e-c242-f709eee8aee4"
      },
      "source": [
        "import random\n",
        "import numpy as np \n",
        "\n",
        "W = 0.5\n",
        "c1 = 0.8\n",
        "c2 = 0.9 \n",
        "\n",
        "n_iterations = 1000\n",
        "target_error = 0.001\n",
        "n_particles = 5\n",
        "\n",
        "class Particle():\n",
        "    def __init__(self):\n",
        "        self.position = np.array([(-1) ** (bool(random.getrandbits(1))) * random.random()*50, (-1)**(bool(random.getrandbits(1))) * random.random()*50])\n",
        "        self.pbest_position = self.position\n",
        "        self.pbest_value = float('inf')\n",
        "        self.velocity = np.array([0,0])\n",
        "\n",
        "    def __str__(self):\n",
        "        print(\"I am at \", self.position, \" meu pbest is \", self.pbest_position)\n",
        "    \n",
        "    def move(self):\n",
        "        self.position = self.position + self.velocity\n",
        "\n",
        "\n",
        "class Space():\n",
        "\n",
        "    def __init__(self, target, target_error, n_particles):\n",
        "        self.target = target\n",
        "        self.target_error = target_error\n",
        "        self.n_particles = n_particles\n",
        "        self.particles = []\n",
        "        self.gbest_value = float('inf')\n",
        "        self.gbest_position = np.array([random.random()*50, random.random()*50])\n",
        "\n",
        "    def print_particles(self):\n",
        "        for particle in self.particles:\n",
        "            particle.__str__()\n",
        "   \n",
        "    def fitness(self, particle):\n",
        "        return particle.position[0] ** 2 + particle.position[1] ** 2 + 1\n",
        "\n",
        "    def set_pbest(self):\n",
        "        for particle in self.particles:\n",
        "            fitness_cadidate = self.fitness(particle)\n",
        "            if(particle.pbest_value > fitness_cadidate):\n",
        "                particle.pbest_value = fitness_cadidate\n",
        "                particle.pbest_position = particle.position\n",
        "            \n",
        "\n",
        "    def set_gbest(self):\n",
        "        for particle in self.particles:\n",
        "            best_fitness_cadidate = self.fitness(particle)\n",
        "            if(self.gbest_value > best_fitness_cadidate):\n",
        "                self.gbest_value = best_fitness_cadidate\n",
        "                self.gbest_position = particle.position\n",
        "\n",
        "    def move_particles(self):\n",
        "        for particle in self.particles:\n",
        "            global W\n",
        "            new_velocity = (W*particle.velocity) + (c1*random.random()) * (particle.pbest_position - particle.position) + \\\n",
        "                            (random.random()*c2) * (self.gbest_position - particle.position)\n",
        "            particle.velocity = new_velocity\n",
        "            particle.move()\n",
        "            \n",
        "\n",
        "search_space = Space(1, target_error, n_particles)\n",
        "particles_vector = [Particle() for _ in range(search_space.n_particles)]\n",
        "search_space.particles = particles_vector\n",
        "search_space.print_particles()\n",
        "\n",
        "iteration = 0\n",
        "while(iteration < n_iterations):\n",
        "    search_space.set_pbest()    \n",
        "    search_space.set_gbest()\n",
        "\n",
        "    if(abs(search_space.gbest_value - search_space.target) <= search_space.target_error):\n",
        "        break\n",
        "\n",
        "    search_space.move_particles()\n",
        "    iteration += 1\n",
        "    \n",
        "print(\"The best solution is: \", search_space.gbest_position, \" in n_iterations: \", iteration)"
      ],
      "execution_count": 4,
      "outputs": [
        {
          "output_type": "stream",
          "text": [
            "I am at  [17.97158502 19.15394541]  meu pbest is  [17.97158502 19.15394541]\n",
            "I am at  [-20.70437575  49.60734456]  meu pbest is  [-20.70437575  49.60734456]\n",
            "I am at  [ 39.55419433 -33.0423377 ]  meu pbest is  [ 39.55419433 -33.0423377 ]\n",
            "I am at  [25.35875762  8.8181306 ]  meu pbest is  [25.35875762  8.8181306 ]\n",
            "I am at  [-20.95627826   8.03272686]  meu pbest is  [-20.95627826   8.03272686]\n",
            "The best solution is:  [0.00537759 0.02086329]  in n_iterations:  16\n"
          ],
          "name": "stdout"
        }
      ]
    },
    {
      "cell_type": "code",
      "metadata": {
        "id": "n4wpjl_AZJaW",
        "colab_type": "code",
        "colab": {}
      },
      "source": [
        ""
      ],
      "execution_count": 0,
      "outputs": []
    }
  ]
}