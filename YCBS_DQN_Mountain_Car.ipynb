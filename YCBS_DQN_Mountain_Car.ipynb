{
  "nbformat": 4,
  "nbformat_minor": 0,
  "metadata": {
    "colab": {
      "name": "YCBS_DQN_Mountain_Car.ipynb",
      "provenance": [],
      "collapsed_sections": [],
      "include_colab_link": true
    },
    "kernelspec": {
      "name": "python3",
      "display_name": "Python 3"
    }
  },
  "cells": [
    {
      "cell_type": "markdown",
      "metadata": {
        "id": "view-in-github",
        "colab_type": "text"
      },
      "source": [
        "<a href=\"https://colab.research.google.com/github/arbi11/YCBS-277/blob/master/YCBS_DQN_Mountain_Car.ipynb\" target=\"_parent\"><img src=\"https://colab.research.google.com/assets/colab-badge.svg\" alt=\"Open In Colab\"/></a>"
      ]
    },
    {
      "cell_type": "code",
      "metadata": {
        "id": "XpTDrjHQM1gB",
        "colab_type": "code",
        "outputId": "eea2566f-524d-4106-914c-8374fe023719",
        "colab": {
          "base_uri": "https://localhost:8080/",
          "height": 763
        }
      },
      "source": [
        "import gym\n",
        "import numpy as np\n",
        "import random\n",
        "from keras.models import Sequential\n",
        "from keras.layers import Dense, Dropout\n",
        "from keras.optimizers import Adam\n",
        "\n",
        "from collections import deque\n",
        "\n",
        "class DQN:\n",
        "    def __init__(self, env):\n",
        "        self.env     = env\n",
        "        self.memory  = deque(maxlen=2000)\n",
        "        \n",
        "        self.gamma = 0.85 # discount rate\n",
        "        self.epsilon = 1.0 # for exploration\n",
        "        self.epsilon_min = 0.01 # for continuing exploration forever\n",
        "        self.epsilon_decay = 0.995 # as we learn more, we want less exploration and more exploitation\n",
        "        self.learning_rate = 0.005 # for multiplying with TD error\n",
        "        self.tau = .125 # Transfer of weights to target network\n",
        "\n",
        "        self.model        = self.create_model()\n",
        "        self.target_model = self.create_model()\n",
        "\n",
        "    def create_model(self):\n",
        "        model   = Sequential()\n",
        "        state_shape  = self.env.observation_space.shape\n",
        "        model.add(Dense(24, input_dim=state_shape[0], activation=\"relu\"))\n",
        "        model.add(Dense(48, activation=\"relu\"))\n",
        "        model.add(Dense(24, activation=\"relu\"))\n",
        "        model.add(Dense(self.env.action_space.n))\n",
        "        model.compile(loss=\"mean_squared_error\",\n",
        "            optimizer=Adam(lr=self.learning_rate))\n",
        "        return model\n",
        "\n",
        "    def act(self, state):\n",
        "        self.epsilon *= self.epsilon_decay\n",
        "        self.epsilon = max(self.epsilon_min, self.epsilon)\n",
        "        if np.random.random() < self.epsilon:\n",
        "            return self.env.action_space.sample()\n",
        "        return np.argmax(self.model.predict(state)[0])\n",
        "\n",
        "    def remember(self, state, action, reward, new_state, done):\n",
        "        self.memory.append([state, action, reward, new_state, done])\n",
        "\n",
        "    def replay(self):\n",
        "        batch_size = 32\n",
        "        if len(self.memory) < batch_size: \n",
        "            return\n",
        "\n",
        "        samples = random.sample(self.memory, batch_size)\n",
        "        for sample in samples:\n",
        "            state, action, reward, new_state, done = sample\n",
        "            target = self.target_model.predict(state)\n",
        "            if done:\n",
        "                target[0][action] = reward\n",
        "            else:\n",
        "                Q_future = max(self.target_model.predict(new_state)[0])\n",
        "                target[0][action] = reward + Q_future * self.gamma\n",
        "            self.model.fit(state, target, epochs=1, verbose=0)\n",
        "\n",
        "    def target_train(self):\n",
        "        weights = self.model.get_weights()\n",
        "        target_weights = self.target_model.get_weights()\n",
        "        for i in range(len(target_weights)):\n",
        "            target_weights[i] = weights[i] * self.tau + target_weights[i] * (1 - self.tau)\n",
        "        self.target_model.set_weights(target_weights)\n",
        "\n",
        "    def save_model(self, fn):\n",
        "        self.model.save(fn)\n",
        "\n",
        "def main():\n",
        "    env     = gym.make(\"MountainCar-v0\")\n",
        "    gamma   = 0.9\n",
        "    epsilon = .95\n",
        "\n",
        "    trials  = 1000\n",
        "    trial_len = 500\n",
        "\n",
        "    # updateTargetNetwork = 1000\n",
        "    dqn_agent = DQN(env=env)\n",
        "    steps = []\n",
        "    for trial in range(trials):\n",
        "        cur_state = env.reset().reshape(1,2)\n",
        "        for step in range(trial_len):\n",
        "            action = dqn_agent.act(cur_state)\n",
        "            new_state, reward, done, _ = env.step(action)\n",
        "\n",
        "            # reward = reward if not done else -20\n",
        "            new_state = new_state.reshape(1,2)\n",
        "            dqn_agent.remember(cur_state, action, reward, new_state, done)\n",
        "            \n",
        "            dqn_agent.replay()       # internally iterates default (prediction) model\n",
        "            dqn_agent.target_train() # iterates target model\n",
        "\n",
        "            cur_state = new_state\n",
        "            if done:\n",
        "                break\n",
        "        if step >= 199:\n",
        "            print(\"Failed to complete in trial {}\".format(trial))\n",
        "            if step % 10 == 0:\n",
        "                dqn_agent.save_model(\"trial-{}.model\".format(trial))\n",
        "        else:\n",
        "            print(\"Completed in {} trials\".format(trial))\n",
        "            dqn_agent.save_model(\"success.model\")\n",
        "            break\n",
        "\n",
        "if __name__ == \"__main__\":\n",
        "    main()"
      ],
      "execution_count": 0,
      "outputs": [
        {
          "output_type": "stream",
          "text": [
            "Using TensorFlow backend.\n"
          ],
          "name": "stderr"
        },
        {
          "output_type": "display_data",
          "data": {
            "text/html": [
              "<p style=\"color: red;\">\n",
              "The default version of TensorFlow in Colab will soon switch to TensorFlow 2.x.<br>\n",
              "We recommend you <a href=\"https://www.tensorflow.org/guide/migrate\" target=\"_blank\">upgrade</a> now \n",
              "or ensure your notebook will continue to use TensorFlow 1.x via the <code>%tensorflow_version 1.x</code> magic:\n",
              "<a href=\"https://colab.research.google.com/notebooks/tensorflow_version.ipynb\" target=\"_blank\">more info</a>.</p>\n"
            ],
            "text/plain": [
              "<IPython.core.display.HTML object>"
            ]
          },
          "metadata": {
            "tags": []
          }
        },
        {
          "output_type": "stream",
          "text": [
            "/usr/local/lib/python3.6/dist-packages/gym/logger.py:30: UserWarning: \u001b[33mWARN: Box bound precision lowered by casting to float32\u001b[0m\n",
            "  warnings.warn(colorize('%s: %s'%('WARN', msg % args), 'yellow'))\n"
          ],
          "name": "stderr"
        },
        {
          "output_type": "stream",
          "text": [
            "WARNING:tensorflow:From /usr/local/lib/python3.6/dist-packages/keras/backend/tensorflow_backend.py:66: The name tf.get_default_graph is deprecated. Please use tf.compat.v1.get_default_graph instead.\n",
            "\n",
            "WARNING:tensorflow:From /usr/local/lib/python3.6/dist-packages/keras/backend/tensorflow_backend.py:541: The name tf.placeholder is deprecated. Please use tf.compat.v1.placeholder instead.\n",
            "\n",
            "WARNING:tensorflow:From /usr/local/lib/python3.6/dist-packages/keras/backend/tensorflow_backend.py:4432: The name tf.random_uniform is deprecated. Please use tf.random.uniform instead.\n",
            "\n",
            "WARNING:tensorflow:From /usr/local/lib/python3.6/dist-packages/keras/optimizers.py:793: The name tf.train.Optimizer is deprecated. Please use tf.compat.v1.train.Optimizer instead.\n",
            "\n",
            "WARNING:tensorflow:From /usr/local/lib/python3.6/dist-packages/keras/backend/tensorflow_backend.py:190: The name tf.get_default_session is deprecated. Please use tf.compat.v1.get_default_session instead.\n",
            "\n",
            "WARNING:tensorflow:From /usr/local/lib/python3.6/dist-packages/keras/backend/tensorflow_backend.py:197: The name tf.ConfigProto is deprecated. Please use tf.compat.v1.ConfigProto instead.\n",
            "\n",
            "WARNING:tensorflow:From /usr/local/lib/python3.6/dist-packages/keras/backend/tensorflow_backend.py:203: The name tf.Session is deprecated. Please use tf.compat.v1.Session instead.\n",
            "\n",
            "WARNING:tensorflow:From /usr/local/lib/python3.6/dist-packages/keras/backend/tensorflow_backend.py:207: The name tf.global_variables is deprecated. Please use tf.compat.v1.global_variables instead.\n",
            "\n",
            "WARNING:tensorflow:From /usr/local/lib/python3.6/dist-packages/keras/backend/tensorflow_backend.py:216: The name tf.is_variable_initialized is deprecated. Please use tf.compat.v1.is_variable_initialized instead.\n",
            "\n",
            "WARNING:tensorflow:From /usr/local/lib/python3.6/dist-packages/keras/backend/tensorflow_backend.py:223: The name tf.variables_initializer is deprecated. Please use tf.compat.v1.variables_initializer instead.\n",
            "\n",
            "WARNING:tensorflow:From /usr/local/lib/python3.6/dist-packages/keras/backend/tensorflow_backend.py:1033: The name tf.assign_add is deprecated. Please use tf.compat.v1.assign_add instead.\n",
            "\n",
            "WARNING:tensorflow:From /usr/local/lib/python3.6/dist-packages/keras/backend/tensorflow_backend.py:1020: The name tf.assign is deprecated. Please use tf.compat.v1.assign instead.\n",
            "\n",
            "Failed to complete in trial 0\n",
            "Failed to complete in trial 1\n",
            "Failed to complete in trial 2\n",
            "Failed to complete in trial 3\n",
            "Failed to complete in trial 4\n",
            "Failed to complete in trial 5\n",
            "Failed to complete in trial 6\n",
            "Failed to complete in trial 7\n",
            "Failed to complete in trial 8\n",
            "Failed to complete in trial 9\n",
            "Failed to complete in trial 10\n",
            "Failed to complete in trial 11\n",
            "Failed to complete in trial 12\n"
          ],
          "name": "stdout"
        }
      ]
    },
    {
      "cell_type": "code",
      "metadata": {
        "id": "qHyDRWs1M3xM",
        "colab_type": "code",
        "colab": {}
      },
      "source": [
        ""
      ],
      "execution_count": 0,
      "outputs": []
    }
  ]
}