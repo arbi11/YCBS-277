{
  "nbformat": 4,
  "nbformat_minor": 0,
  "metadata": {
    "colab": {
      "name": "[MarApr] YCBS 277 - DFS & BFS Intro.ipynb",
      "provenance": [],
      "collapsed_sections": [],
      "authorship_tag": "ABX9TyOIoy537vJEwgq7tKZpUP4E",
      "include_colab_link": true
    },
    "kernelspec": {
      "name": "python3",
      "display_name": "Python 3"
    }
  },
  "cells": [
    {
      "cell_type": "markdown",
      "metadata": {
        "id": "view-in-github",
        "colab_type": "text"
      },
      "source": [
        "<a href=\"https://colab.research.google.com/github/arbi11/YCBS-277/blob/master/%5BMarApr%5D_YCBS_277_DFS_%26_BFS_Intro.ipynb\" target=\"_parent\"><img src=\"https://colab.research.google.com/assets/colab-badge.svg\" alt=\"Open In Colab\"/></a>"
      ]
    },
    {
      "cell_type": "markdown",
      "metadata": {
        "id": "4sERknCPrxIc",
        "colab_type": "text"
      },
      "source": [
        "# Depth First Search\n",
        "\n",
        "Depth First Traversal (or Search) for a graph is similar to Depth First Traversal of a tree. The only catch here is, unlike trees, graphs may contain cycles, so we may come to the same node again. \n",
        "\n",
        "The DFS algorithm works as follows:\n",
        "\n",
        "*  Start by putting any one of the graph's vertices on top of a stack.\n",
        "*  Take the top item of the stack and add it to the visited list.\n",
        "*  Create a list of that vertex's adjacent nodes. Add the ones which aren't in the visited list to the top of stack.\n",
        "*  Keep repeating steps 2 and 3 until the stack is empty.\n"
      ]
    },
    {
      "cell_type": "markdown",
      "metadata": {
        "id": "YYAJLwCcwfX6",
        "colab_type": "text"
      },
      "source": [
        "## 1. Creating a stack"
      ]
    },
    {
      "cell_type": "code",
      "metadata": {
        "id": "Hu0f6PN4tRLw",
        "colab_type": "code",
        "outputId": "25557fb3-1aa0-44a5-de74-03afbd8f64f6",
        "colab": {
          "base_uri": "https://localhost:8080/",
          "height": 34
        }
      },
      "source": [
        "G= {} #initializes the empty dictionary\n",
        "G['A'] = {} #Creates a key 'A' in the dictionaries and assigns the key to a value of another empty hash\n",
        "(G['A'])['B'] = 1 #Creates a Sub-Hash for key 'A' of the hash,Sub-hash is {'B':1}\n",
        "print (G)"
      ],
      "execution_count": 0,
      "outputs": [
        {
          "output_type": "stream",
          "text": [
            "{'A': {'B': 1}}\n"
          ],
          "name": "stdout"
        }
      ]
    },
    {
      "cell_type": "markdown",
      "metadata": {
        "id": "hu1B4t2rtpFC",
        "colab_type": "text"
      },
      "source": [
        "## 2. Populating a data structure to store a graph\n",
        "Depth-first search (DFS) is an algorithm for traversing or searching tree or graph data structures. One starts at the root (selecting some arbitrary node as the root in the case of a graph) and explores as far as possible along each branch before backtracking. Depth-first search (DFS) is an algorithm for traversing or searching tree or graph data structures. One starts at the root (selecting some arbitrary node as the root in the case of a graph) and explores as far as possible along each branch before backtracking."
      ]
    },
    {
      "cell_type": "code",
      "metadata": {
        "id": "hlP-583htylS",
        "colab_type": "code",
        "colab": {}
      },
      "source": [
        "def make_link(g,node1,node2): #function to construct the graph in JSOn like format \n",
        "    if node1 not in G:\n",
        "        G[node1]={}\n",
        "    (G[node1])[node2]=1\n",
        "    if node2 not in G:\n",
        "        G[node2]={}\n",
        "    (G[node2])[node1]=1\n",
        "\n",
        "G={} #initializing the empty grapgh\n",
        "connections = [('A','B'),('A','C'),('A','E'),('B','D'),('B','F'),('C','G'),('E','F')] #tuples representing the connections"
      ],
      "execution_count": 0,
      "outputs": []
    },
    {
      "cell_type": "markdown",
      "metadata": {
        "id": "cPj02Vimt1kq",
        "colab_type": "text"
      },
      "source": [
        "## 3. Traversing the graph\n",
        "\n",
        "A standard DFS implementation puts each vertex of the graph into one of two categories:\n",
        "\n",
        "*  Visited\n",
        "*  Not Visited\n",
        "\n",
        "\n",
        "Now let us traverse the above graph using Depth-First-Search. Lets start from node 'A' and then move to any of its neighbouring nodes, lets say node 'C' , mark these nodes when you visit them for the first time , 'C' has only one neighbour 'G', so move to node 'G'. 'G' has no neighbours so now start backtracking, move to the previous node, that is node 'C', node has no more unvisited neighbours, 'G' has already been visited. So now backtrack to 'A' ,since 'C' has already been visited now move on to an unvisited node of 'A' , lets say 'B' , this process repeats till all the nodes of the graph are visited.\n",
        "\n",
        "Check the python code for this:"
      ]
    },
    {
      "cell_type": "code",
      "metadata": {
        "id": "hTZl97t8t18q",
        "colab_type": "code",
        "outputId": "f54acd8d-8508-4492-b80a-e0cb4101e5e8",
        "colab": {
          "base_uri": "https://localhost:8080/",
          "height": 153
        }
      },
      "source": [
        "for x,y in connections:make_link(G,x,y) #constructing the graph using tuple representation\n",
        "\n",
        "print (G)\n",
        "\n",
        "def dfs(G,node,traversed):\n",
        "    traversed[node]=True #mark the traversed node \n",
        "    print (traversed, ':', node)\n",
        "    for neighbour_nodes in G[node]: #take a neighbouring node \n",
        "        if neighbour_nodes not in traversed: #condition to check whether the neighbour node is already visited\n",
        "            dfs(G,neighbour_nodes,traversed) #recursively traverse the neighbouring node\n",
        "\n",
        "def start_traversal(G):\n",
        "    traversed = {} #dictionary to mark the traversed nodes \n",
        "    for node in G.keys(): #G.keys() returns a node from the graph in its iteration\n",
        "        if node not in traversed: #you start traversing from the root node only if its not visited \n",
        "            dfs(G,node,traversed); #for a connected graph this is called only once\n",
        "\n",
        "start_traversal(G)"
      ],
      "execution_count": 0,
      "outputs": [
        {
          "output_type": "stream",
          "text": [
            "{'A': {'B': 1, 'C': 1, 'E': 1}, 'B': {'A': 1, 'D': 1, 'F': 1}, 'C': {'A': 1, 'G': 1}, 'E': {'A': 1, 'F': 1}, 'D': {'B': 1}, 'F': {'B': 1, 'E': 1}, 'G': {'C': 1}}\n",
            "{'A': True} : A\n",
            "{'A': True, 'B': True} : B\n",
            "{'A': True, 'B': True, 'D': True} : D\n",
            "{'A': True, 'B': True, 'D': True, 'F': True} : F\n",
            "{'A': True, 'B': True, 'D': True, 'F': True, 'E': True} : E\n",
            "{'A': True, 'B': True, 'D': True, 'F': True, 'E': True, 'C': True} : C\n",
            "{'A': True, 'B': True, 'D': True, 'F': True, 'E': True, 'C': True, 'G': True} : G\n"
          ],
          "name": "stdout"
        }
      ]
    },
    {
      "cell_type": "markdown",
      "metadata": {
        "id": "4a2UiaBMuA9S",
        "colab_type": "text"
      },
      "source": [
        "The worst case time complexity of DFS is of order n*m , 'n' is the number of nodes and 'm' is no of edges "
      ]
    },
    {
      "cell_type": "markdown",
      "metadata": {
        "id": "Ds-cNlM9zUX0",
        "colab_type": "text"
      },
      "source": [
        "## 4. Backtracking Algorithm\n",
        "\n",
        "The idea is to place queens one by one in different columns, starting from the leftmost column. When we place a queen in a column, we check for clashes with already placed queens. In the current column, if we find a row for which there is no clash, we mark this row and column as part of the solution. If we do not find such a row due to clashes then we backtrack and return false.\n",
        "\n",
        "Steps to follow:\n",
        "\n",
        "1.   Start in the leftmost column\n",
        "2.   If all queens are placed\n",
        "      return true\n",
        "3.   Try all rows in the current column.\n"
      ]
    },
    {
      "cell_type": "code",
      "metadata": {
        "id": "9T6W8VBuzXfY",
        "colab_type": "code",
        "outputId": "6acf1e06-d084-432c-95cf-edab65bce02a",
        "colab": {
          "base_uri": "https://localhost:8080/",
          "height": 102
        }
      },
      "source": [
        "# Python3 program to solve N Queen \n",
        "# Problem using backtracking \n",
        "global N \n",
        "N = 4\n",
        "\n",
        "def printSolution(board): \n",
        "\tfor i in range(N): \n",
        "\t\tfor j in range(N): \n",
        "\t\t\tprint (board[i][j], end = \" \") \n",
        "\t\tprint() \n",
        "\n",
        "# A utility function to check if a queen can \n",
        "# be placed on board[row][col]. Note that this \n",
        "# function is called when \"col\" queens are \n",
        "# already placed in columns from 0 to col -1. \n",
        "# So we need to check only left side for \n",
        "# attacking queens \n",
        "def isSafe(board, row, col): \n",
        "\n",
        "\t# Check this row on left side \n",
        "\tfor i in range(col): \n",
        "\t\tif board[row][i] == 1: \n",
        "\t\t\treturn False\n",
        "\n",
        "\t# Check upper diagonal on left side \n",
        "\tfor i, j in zip(range(row, -1, -1), \n",
        "\t\t\t\t\trange(col, -1, -1)): \n",
        "\t\tif board[i][j] == 1: \n",
        "\t\t\treturn False\n",
        "\n",
        "\t# Check lower diagonal on left side \n",
        "\tfor i, j in zip(range(row, N, 1), \n",
        "\t\t\t\t\trange(col, -1, -1)): \n",
        "\t\tif board[i][j] == 1: \n",
        "\t\t\treturn False\n",
        "\n",
        "\treturn True\n",
        "\n",
        "def solveNQUtil(board, col): \n",
        "\t\n",
        "\t# base case: If all queens are placed \n",
        "\t# then return true \n",
        "\tif col >= N: \n",
        "\t\treturn True\n",
        "\n",
        "\t# Consider this column and try placing \n",
        "\t# this queen in all rows one by one \n",
        "\tfor i in range(N): \n",
        "\n",
        "\t\tif isSafe(board, i, col): \n",
        "\t\t\t\n",
        "\t\t\t# Place this queen in board[i][col] \n",
        "\t\t\tboard[i][col] = 1\n",
        "\n",
        "\t\t\t# recur to place rest of the queens \n",
        "\t\t\tif solveNQUtil(board, col + 1) == True: \n",
        "\t\t\t\treturn True\n",
        "\n",
        "\t\t\t# If placing queen in board[i][col \n",
        "\t\t\t# doesn't lead to a solution, then \n",
        "\t\t\t# queen from board[i][col] \n",
        "\t\t\tboard[i][col] = 0\n",
        "\n",
        "\t# if the queen can not be placed in any row in \n",
        "\t# this colum col then return false \n",
        "\treturn False\n",
        "\n",
        "# This function solves the N Queen problem using \n",
        "# Backtracking. It mainly uses solveNQUtil() to \n",
        "# solve the problem. It returns false if queens \n",
        "# cannot be placed, otherwise return true and \n",
        "# placement of queens in the form of 1s. \n",
        "# note that there may be more than one \n",
        "# solutions, this function prints one of the \n",
        "# feasible solutions. \n",
        "def solveNQ(): \n",
        "\tboard = [ [0, 0, 0, 0], \n",
        "\t\t\t[0, 0, 0, 0], \n",
        "\t\t\t[0, 0, 0, 0], \n",
        "\t\t\t[0, 0, 0, 0] ] \n",
        "\n",
        "\tif solveNQUtil(board, 0) == False: \n",
        "\t\tprint (\"Solution does not exist\") \n",
        "\t\treturn False\n",
        "\n",
        "\tprintSolution(board) \n",
        "\treturn True\n",
        "\n",
        "# Driver Code \n",
        "solveNQ() \n",
        "\n",
        "# This code is contributed by Divyanshu Mehta \n"
      ],
      "execution_count": 0,
      "outputs": [
        {
          "output_type": "stream",
          "text": [
            "0 0 1 0 \n",
            "1 0 0 0 \n",
            "0 0 0 1 \n",
            "0 1 0 0 \n"
          ],
          "name": "stdout"
        },
        {
          "output_type": "execute_result",
          "data": {
            "text/plain": [
              "True"
            ]
          },
          "metadata": {
            "tags": []
          },
          "execution_count": 8
        }
      ]
    },
    {
      "cell_type": "code",
      "metadata": {
        "id": "wqwuZd-k0KcT",
        "colab_type": "code",
        "colab": {}
      },
      "source": [
        ""
      ],
      "execution_count": 0,
      "outputs": []
    },
    {
      "cell_type": "markdown",
      "metadata": {
        "id": "a6gWzmmcYNXK",
        "colab_type": "text"
      },
      "source": [
        "# Breadth First Search\n",
        "\n",
        "BFS implements a specific strategy for visiting all the nodes (vertices) of a graph. BFS starts with a node, then it checks the neighbours of the initial node, then the neighbours of the neighbours, and so on. Two vertices are ‘neighbours’ if they are connected with an edge.\n",
        "\n",
        "Several AI problems can be solved by searching through a great number of solutions. The reasoning process, in these cases, can be reduced to performing a search in a problem space. For using BFS, the problem should be represented as a graph.\n",
        "\n",
        "In this tutorial we will learn:\n",
        "\n",
        "\n",
        "\n",
        "*   Explain how BFS works and outline its advantages/disadvantages.\n",
        "*   Provide an implementation of breadth-first search to traverse a graph.\n",
        "*   Return the shortest path between two nodes of a graph using BFS, with the distance measured in number of edges that separate two vertices.\n",
        "\n",
        "\n",
        "\n",
        "\n"
      ]
    },
    {
      "cell_type": "markdown",
      "metadata": {
        "id": "1B3ayCmLZomr",
        "colab_type": "text"
      },
      "source": [
        "## 1. Graph Data Structure\n",
        "\n",
        "A connected graph with 7 nodes and 7 edges is shown below. The edges are undirected and unweighted.  Distance between two nodes will be measured based on the number of edges separating two vertices.\n",
        "\n",
        "Possible to represent graphs in 2 ways:\n",
        "\n",
        "*   Adjacency matrix - A 2-D matrix (good for dense graphs)\n",
        "*   Adjacency list - like a dictionary in Python (useful for sparse graphs)\n",
        "\n",
        "\n",
        "\n",
        "\n"
      ]
    },
    {
      "cell_type": "code",
      "metadata": {
        "id": "7wD1v10kYIZs",
        "colab_type": "code",
        "colab": {}
      },
      "source": [
        "# sample graph implemented as a dictionary\n",
        "graph = {'A': ['B', 'C', 'E'],\n",
        "         'B': ['A','D', 'E'],\n",
        "         'C': ['A', 'F', 'G'],\n",
        "         'D': ['B'],\n",
        "         'E': ['A', 'B','D'],\n",
        "         'F': ['C'],\n",
        "         'G': ['C']}"
      ],
      "execution_count": 0,
      "outputs": []
    },
    {
      "cell_type": "markdown",
      "metadata": {
        "id": "IFAkcDWVadep",
        "colab_type": "text"
      },
      "source": [
        "the first element of the dictionary above  tells us that node ‘A’ is connected with node ‘B’, ‘C’ and ‘E’. Check figure above to verify."
      ]
    },
    {
      "cell_type": "markdown",
      "metadata": {
        "id": "3iPBJ5fZan0J",
        "colab_type": "text"
      },
      "source": [
        "BFS visits all the nodes of a graph (connected component) following a breadthward motion. In other words, BFS starts from a node, then it checks all the nodes at distance one from the starting node, then it checks all the nodes at distance two and so on.\n",
        "\n",
        "In order to remember the nodes to be visited, BFS uses a queue, based on FIFO (First In, First Out). The algorithm can keep track of the vertices it has already checked to avoid revisiting them, in case a graph had one or more cycles.\n",
        "\n",
        "BFS can be implemented through following steps:\n",
        "\n",
        "1.   Start with the initial node and add its neighbours to the queue.\n",
        "2.   Mark the starting node as **EXPLORED**.\n",
        "3.   Extract the first node from the queue.\n",
        "4.   If node not already visited, add neighbours to the queue.\n",
        "5.   Mark this node as **EXPLORED**.\n",
        "6.   Repeat steps 3-5 for all the nodes in the queue.\n",
        "\n"
      ]
    },
    {
      "cell_type": "markdown",
      "metadata": {
        "id": "XTcaH3G0cBvr",
        "colab_type": "text"
      },
      "source": [
        "## 2. Traversing the graph\n",
        "\n",
        "Taking the example for the graph shown earlier, the nodes will be visited in the order shown below.\n",
        "\n",
        "From python pov, we initialize a couple of lists that will be necessary to maintain information related to explored/unexplored nodes.\n",
        "\n",
        "\n"
      ]
    },
    {
      "cell_type": "code",
      "metadata": {
        "id": "xx7ZZU2YaZbt",
        "colab_type": "code",
        "colab": {}
      },
      "source": [
        "# visits all the nodes of a graph (connected component) using BFS\n",
        "def bfs_connected_component(graph, start):\n",
        "    # keep track of all visited nodes\n",
        "    explored = []\n",
        "    # keep track of nodes to be checked\n",
        "    queue = [start]"
      ],
      "execution_count": 0,
      "outputs": []
    },
    {
      "cell_type": "markdown",
      "metadata": {
        "id": "wwgEG1tadycb",
        "colab_type": "text"
      },
      "source": [
        "## 3. Exploring nodes\n",
        "\n",
        "The next step is to implement a loop that keeps cycling until queue is empty. At each iteration of the loop, a node is checked.  If this wasn’t visited already, its neighbours are added to queue."
      ]
    },
    {
      "cell_type": "code",
      "metadata": {
        "id": "tKz3y8Qnd_gJ",
        "colab_type": "code",
        "colab": {}
      },
      "source": [
        "# visits all the nodes of a graph (connected component) using BFS\n",
        "def bfs_connected_component(graph, start):\n",
        "    # keep track of all visited nodes\n",
        "    explored = []\n",
        "    # keep track of nodes to be checked\n",
        "    queue = [start]\n",
        " \n",
        "    # keep looping until there are nodes still to be checked\n",
        "    while queue:\n",
        "        # pop shallowest node (first node) from queue\n",
        "        node = queue.pop(0)\n",
        "        if node not in explored:\n",
        "            # add node to list of checked nodes\n",
        "            explored.append(node)\n",
        "            neighbours = graph[node]\n",
        " \n",
        "            # add neighbours of node to queue\n",
        "            for neighbour in neighbours:\n",
        "                queue.append(neighbour)\n",
        "    return explored\n",
        " \n",
        "bfs_connected_component(graph,'A') # returns ['A', 'B', 'C', 'E', 'D', 'F', 'G']\n"
      ],
      "execution_count": 0,
      "outputs": []
    },
    {
      "cell_type": "markdown",
      "metadata": {
        "id": "ITvxfiJ7eIhD",
        "colab_type": "text"
      },
      "source": [
        "## 4. Shortest path\n",
        "\n",
        "The nice thing about BFS is that it always returns the shortest path, even if there is more than one path that links two vertices.\n",
        "\n",
        "There are a couple of main differences between the implementations of BFS for traversing a graph and for finding the shortest path. \n",
        "\n",
        "*   First, in case of the shortest path application, we need for the queue to keep track of possible paths (implemented as list of nodes) instead of nodes.\n",
        "\n",
        "*   Second, when the algorithm checks for a neighbour node, it needs to check whether the neighbour node corresponds to the goal node. If that’s the case, we have a solution and there’s no need to keep exploring the graph."
      ]
    },
    {
      "cell_type": "code",
      "metadata": {
        "id": "VD1-0i_eewhy",
        "colab_type": "code",
        "colab": {}
      },
      "source": [
        "# finds shortest path between 2 nodes of a graph using BFS\n",
        "def bfs_shortest_path(graph, start, goal):\n",
        "    # keep track of explored nodes\n",
        "    explored = []\n",
        "    # keep track of all the paths to be checked\n",
        "    queue = [[start]]\n",
        " \n",
        "    # return path if start is goal\n",
        "    if start == goal:\n",
        "        return \"That was easy! Start = goal\"\n",
        " \n",
        "    # keeps looping until all possible paths have been checked\n",
        "    while queue:\n",
        "        # pop the first path from the queue\n",
        "        path = queue.pop(0)\n",
        "        # get the last node from the path\n",
        "        node = path[-1]\n",
        "        if node not in explored:\n",
        "            neighbours = graph[node]\n",
        "            # go through all neighbour nodes, construct a new path and\n",
        "            # push it into the queue\n",
        "            for neighbour in neighbours:\n",
        "                new_path = list(path)\n",
        "                new_path.append(neighbour)\n",
        "                queue.append(new_path)\n",
        "                # return path if neighbour is goal\n",
        "                if neighbour == goal:\n",
        "                    return new_path\n",
        " \n",
        "            # mark node as explored\n",
        "            explored.append(node)\n",
        " \n",
        "    # in case there's no path between the 2 nodes\n",
        "    return \"So sorry, but a connecting path doesn't exist :(\"\n",
        " \n",
        "bfs_shortest_path(graph, 'G', 'D')  # returns ['G', 'C', 'A', 'B', 'D']\n"
      ],
      "execution_count": 0,
      "outputs": []
    },
    {
      "cell_type": "markdown",
      "metadata": {
        "id": "WE3IJ_-DfVTg",
        "colab_type": "text"
      },
      "source": [
        "## 5. Advantages & Disadvantages of BFS\n",
        "\n",
        "Advantages: \n",
        "\n",
        "\n",
        "*   Complete: is always able to find a solution to a problem, if there is one.\n",
        "*   Easy to implement\n",
        "\n",
        "Disadvatages:\n",
        "\n",
        "\n",
        "\n",
        "*   Completeness is a nice-to-have feature for an algorithm, but in case of BFS it comes to a high cost.\n",
        "*   A graph may contain cycles.\n",
        "*   Time complexity of the algorithm is exponential.\n",
        "*   Since BFS has to keep track of all of the nodes, memory requirements are huge. For solving Rubik's cube, BFS needs 10 Zetabytes ($10^{21}$ bytes) RAM. \n",
        "\n",
        "\n",
        "\n"
      ]
    },
    {
      "cell_type": "markdown",
      "metadata": {
        "id": "zmhQoWqqgUAT",
        "colab_type": "text"
      },
      "source": [
        "## 6. Applications\n",
        "\n",
        "\n",
        "\n",
        "*   Shortest path of unweighted graphs (CODED here).\n",
        "*   Discover all nodes reachable from an initial vertex (CODED here).\n",
        "*   Find neighbour nodes in peer to peer networks like BitTorrent.\n",
        "*   Used by crawlers in search engines to visit links on a webpage, and keep doing the same recursively.\n",
        "*   Find people at a given distance from a person in social networks.\n",
        "*   Search whether there’s a path between two nodes of a graph (path finding).\n",
        "*   Allow broadcasted packets to reach all nodes of a network.\n",
        "\n",
        "\n"
      ]
    }
  ]
}