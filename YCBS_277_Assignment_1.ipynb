{
  "nbformat": 4,
  "nbformat_minor": 0,
  "metadata": {
    "colab": {
      "name": "YCBS_277_Assignment_1.ipynb",
      "provenance": [],
      "collapsed_sections": [],
      "include_colab_link": true
    },
    "kernelspec": {
      "name": "python3",
      "display_name": "Python 3"
    }
  },
  "cells": [
    {
      "cell_type": "markdown",
      "metadata": {
        "id": "view-in-github",
        "colab_type": "text"
      },
      "source": [
        "<a href=\"https://colab.research.google.com/github/arbi11/YCBS-277/blob/master/YCBS_277_Assignment_1.ipynb\" target=\"_parent\"><img src=\"https://colab.research.google.com/assets/colab-badge.svg\" alt=\"Open In Colab\"/></a>"
      ]
    },
    {
      "cell_type": "markdown",
      "metadata": {
        "id": "47U3_faiYgaR",
        "colab_type": "text"
      },
      "source": [
        "#Instructions for Assignment 1\n",
        "\n",
        "\n",
        "1.   All the submissions should be attempted individually.\n",
        "\n",
        "2.   Please submit the assignment on mycources. In case of any issues, you can submit the assignment (jupyter notebook) to arbaaz.khan@mail.mcgill.ca \n",
        "\n",
        "3.   Please follow the McGill Integrity code, through out the process of the notebook. Read for more info: [Academic Integrity](https://www.mcgill.ca/deanofstudents/students/student-rights-responsibilities/integrity)\n",
        "\n",
        "4.   A student should be able to **replicate** the results in front of a TA or the Instructor, if asked. If you code is dependent on hyperparameters values, then include appropriate seeding.\n",
        "\n",
        "5.   You can add text/code cells as per your need.\n",
        "\n",
        "6.   Additional marks for clean and well commented code.\n",
        "\n",
        "7.   Please explain any assumption made during the exercise.\n",
        "\n",
        "7.   Maximum points associated with this assignment = 15.\n",
        "\n",
        "\n",
        "\n",
        "\n",
        "\n",
        "\n"
      ]
    },
    {
      "cell_type": "markdown",
      "metadata": {
        "id": "AVYFXPgpUQbp",
        "colab_type": "text"
      },
      "source": [
        "# Loading the necessary data"
      ]
    },
    {
      "cell_type": "code",
      "metadata": {
        "id": "TJBvHpojUORr",
        "colab_type": "code",
        "colab": {}
      },
      "source": [
        "! git clone https://github.com/arbi11/YCBS-277"
      ],
      "execution_count": 0,
      "outputs": []
    },
    {
      "cell_type": "code",
      "metadata": {
        "id": "tFdZBA_GUVMR",
        "colab_type": "code",
        "colab": {}
      },
      "source": [
        "! ls"
      ],
      "execution_count": 0,
      "outputs": []
    },
    {
      "cell_type": "code",
      "metadata": {
        "id": "_CzgTXLHUkqy",
        "colab_type": "code",
        "colab": {}
      },
      "source": [
        "cd YCBS-277/"
      ],
      "execution_count": 0,
      "outputs": []
    },
    {
      "cell_type": "code",
      "metadata": {
        "id": "oWKQJgjMUneR",
        "colab_type": "code",
        "colab": {}
      },
      "source": [
        "! ls"
      ],
      "execution_count": 0,
      "outputs": []
    },
    {
      "cell_type": "markdown",
      "metadata": {
        "id": "tSTAXmkDWVfy",
        "colab_type": "text"
      },
      "source": [
        "# Loading the data.\n",
        "\n",
        "The column **'Dataset'** is the target column.\n"
      ]
    },
    {
      "cell_type": "code",
      "metadata": {
        "id": "wCt_dC6DUqa6",
        "colab_type": "code",
        "colab": {}
      },
      "source": [
        "import pandas as pd\n",
        "data_frame = pd.read_csv('indian_liver_patient.csv')"
      ],
      "execution_count": 0,
      "outputs": []
    },
    {
      "cell_type": "code",
      "metadata": {
        "id": "rsN25e3xaLIb",
        "colab_type": "code",
        "colab": {}
      },
      "source": [
        "data_frame.describe()"
      ],
      "execution_count": 0,
      "outputs": []
    },
    {
      "cell_type": "markdown",
      "metadata": {
        "id": "JxKUmtD4VSG_",
        "colab_type": "text"
      },
      "source": [
        "# 1. Explain what is happening the next line of code\n",
        "[1 point]"
      ]
    },
    {
      "cell_type": "code",
      "metadata": {
        "id": "uR3QIU42VHEC",
        "colab_type": "code",
        "colab": {}
      },
      "source": [
        "data_frame = pd.get_dummies(data_frame, prefix=['Gender'])"
      ],
      "execution_count": 0,
      "outputs": []
    },
    {
      "cell_type": "markdown",
      "metadata": {
        "id": "qY5cc2QyaU86",
        "colab_type": "text"
      },
      "source": [
        ""
      ]
    },
    {
      "cell_type": "markdown",
      "metadata": {
        "id": "DTiqtnEUVlQS",
        "colab_type": "text"
      },
      "source": [
        "# 2. Perform basic statistics for the dataset and explain what useful information you extacted from them\n",
        "\n",
        "Execute and write about atleast 2 different pandas function.\n",
        "\n",
        "[2 points]"
      ]
    },
    {
      "cell_type": "code",
      "metadata": {
        "id": "GQFQgHCwV_Tx",
        "colab_type": "code",
        "colab": {}
      },
      "source": [
        ""
      ],
      "execution_count": 0,
      "outputs": []
    },
    {
      "cell_type": "code",
      "metadata": {
        "id": "O_KrIPGJWPDp",
        "colab_type": "code",
        "colab": {}
      },
      "source": [
        ""
      ],
      "execution_count": 0,
      "outputs": []
    },
    {
      "cell_type": "markdown",
      "metadata": {
        "id": "-oG2Y7hsXAdi",
        "colab_type": "text"
      },
      "source": [
        "# 3. Partition the data into 'Train' and 'Test' set\n",
        "\n",
        "Ratio: 90:10\n",
        "\n",
        "[1 point]"
      ]
    },
    {
      "cell_type": "markdown",
      "metadata": {
        "id": "jHGC6KhbXQeS",
        "colab_type": "text"
      },
      "source": [
        "# 4.1 Train a model (Decision Tree) on the 'Train' dataset\n",
        "\n",
        "The column 'Dataset' is the Target.\n",
        "\n",
        "The labels are divided into two classes: \n",
        "\n",
        "Class '1': Patient has **NO** disease,\n",
        "\n",
        "Class '2': Patient has Liver disease\n",
        "\n",
        "[4 points]"
      ]
    },
    {
      "cell_type": "code",
      "metadata": {
        "id": "1P4ta0AgXGRW",
        "colab_type": "code",
        "colab": {}
      },
      "source": [
        "data_frame['Dataset'].value_counts()"
      ],
      "execution_count": 0,
      "outputs": []
    },
    {
      "cell_type": "code",
      "metadata": {
        "id": "rFhxUTb7XMxi",
        "colab_type": "code",
        "colab": {}
      },
      "source": [
        ""
      ],
      "execution_count": 0,
      "outputs": []
    },
    {
      "cell_type": "markdown",
      "metadata": {
        "id": "pUPiZEIXXacK",
        "colab_type": "text"
      },
      "source": [
        "# 4.2 Predict the outcome for the data in 'Test' set\n",
        "\n",
        "[1 point]"
      ]
    },
    {
      "cell_type": "code",
      "metadata": {
        "id": "JNdVj3lIXjnS",
        "colab_type": "code",
        "colab": {}
      },
      "source": [
        ""
      ],
      "execution_count": 0,
      "outputs": []
    },
    {
      "cell_type": "markdown",
      "metadata": {
        "id": "mUCjLyeLXmWx",
        "colab_type": "text"
      },
      "source": [
        "# 4.3 Compute the accuracy over both the 'Train' & 'Test' set\n",
        "\n",
        "[1 point]"
      ]
    },
    {
      "cell_type": "code",
      "metadata": {
        "id": "TexlTStsXwbi",
        "colab_type": "code",
        "colab": {}
      },
      "source": [
        ""
      ],
      "execution_count": 0,
      "outputs": []
    },
    {
      "cell_type": "code",
      "metadata": {
        "id": "4GHpbcTMYBpR",
        "colab_type": "code",
        "colab": {}
      },
      "source": [
        ""
      ],
      "execution_count": 0,
      "outputs": []
    },
    {
      "cell_type": "markdown",
      "metadata": {
        "id": "1PrbicO7YF2a",
        "colab_type": "text"
      },
      "source": [
        "# 4.3 Plot your decision tree\n",
        "\n",
        "[1 point]"
      ]
    },
    {
      "cell_type": "code",
      "metadata": {
        "id": "v2iKxH5nYJAa",
        "colab_type": "code",
        "colab": {}
      },
      "source": [
        ""
      ],
      "execution_count": 0,
      "outputs": []
    },
    {
      "cell_type": "markdown",
      "metadata": {
        "id": "YBYf8nnlYMeS",
        "colab_type": "text"
      },
      "source": [
        "# 4.4 Can you identify the most important feature in your train dataset\n",
        "\n",
        "[1 point]"
      ]
    },
    {
      "cell_type": "code",
      "metadata": {
        "id": "gzHRi1GKYUVy",
        "colab_type": "code",
        "colab": {}
      },
      "source": [
        ""
      ],
      "execution_count": 0,
      "outputs": []
    },
    {
      "cell_type": "markdown",
      "metadata": {
        "id": "DIu_LOOKY4zq",
        "colab_type": "text"
      },
      "source": [
        "# Bonus: How can you improve the efficiency of your prediction\n",
        "\n",
        "Hint: Bagging Classifier\n",
        "\n",
        "If you have lot of free time:\n",
        "\n",
        "*! pip install xgboost*\n",
        "\n",
        "*import xgboost as xgb*\n",
        "\n",
        "[XGBoost](https://xgboost.readthedocs.io/en/latest/)\n",
        "\n",
        "XGBoost is a gradienbt based Boosting Tree Classifier. \n",
        "\n",
        "\n",
        "Bonus marks for achieving accuracy over 0.74"
      ]
    },
    {
      "cell_type": "code",
      "metadata": {
        "id": "etXnohH5ZIei",
        "colab_type": "code",
        "colab": {}
      },
      "source": [
        ""
      ],
      "execution_count": 0,
      "outputs": []
    },
    {
      "cell_type": "markdown",
      "metadata": {
        "id": "EaU44P9nueZ9",
        "colab_type": "text"
      },
      "source": [
        "# 5 Solve a 8-Queen problem using any technique taught during the class.\n",
        "\n",
        "Your code should print out the print out the chess board pattern to show the position of the queens.\n",
        "\n",
        "[3 points]"
      ]
    },
    {
      "cell_type": "code",
      "metadata": {
        "id": "gbcPwvunvFZh",
        "colab_type": "code",
        "colab": {}
      },
      "source": [
        ""
      ],
      "execution_count": 0,
      "outputs": []
    }
  ]
}