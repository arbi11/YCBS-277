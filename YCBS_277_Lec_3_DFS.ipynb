{
  "nbformat": 4,
  "nbformat_minor": 0,
  "metadata": {
    "colab": {
      "name": "YCBS 277 - Lec 3- DFS.ipynb",
      "provenance": [],
      "collapsed_sections": [],
      "authorship_tag": "ABX9TyNleDLYi60xQTXWt4JBjDaY",
      "include_colab_link": true
    },
    "kernelspec": {
      "name": "python3",
      "display_name": "Python 3"
    }
  },
  "cells": [
    {
      "cell_type": "markdown",
      "metadata": {
        "id": "view-in-github",
        "colab_type": "text"
      },
      "source": [
        "<a href=\"https://colab.research.google.com/github/arbi11/YCBS-277/blob/master/YCBS_277_Lec_3_DFS.ipynb\" target=\"_parent\"><img src=\"https://colab.research.google.com/assets/colab-badge.svg\" alt=\"Open In Colab\"/></a>"
      ]
    },
    {
      "cell_type": "markdown",
      "metadata": {
        "id": "4sERknCPrxIc",
        "colab_type": "text"
      },
      "source": [
        "# Depth First Search\n",
        "\n",
        "Depth First Traversal (or Search) for a graph is similar to Depth First Traversal of a tree. The only catch here is, unlike trees, graphs may contain cycles, so we may come to the same node again. \n",
        "\n",
        "The DFS algorithm works as follows:\n",
        "\n",
        "*  Start by putting any one of the graph's vertices on top of a stack.\n",
        "*  Take the top item of the stack and add it to the visited list.\n",
        "*  Create a list of that vertex's adjacent nodes. Add the ones which aren't in the visited list to the top of stack.\n",
        "*  Keep repeating steps 2 and 3 until the stack is empty.\n"
      ]
    },
    {
      "cell_type": "markdown",
      "metadata": {
        "id": "YYAJLwCcwfX6",
        "colab_type": "text"
      },
      "source": [
        "## 1. Creating a stack"
      ]
    },
    {
      "cell_type": "code",
      "metadata": {
        "id": "Hu0f6PN4tRLw",
        "colab_type": "code",
        "colab": {
          "base_uri": "https://localhost:8080/",
          "height": 34
        },
        "outputId": "25557fb3-1aa0-44a5-de74-03afbd8f64f6"
      },
      "source": [
        "G= {} #initializes the empty dictionary\n",
        "G['A'] = {} #Creates a key 'A' in the dictionaries and assigns the key to a value of another empty hash\n",
        "(G['A'])['B'] = 1 #Creates a Sub-Hash for key 'A' of the hash,Sub-hash is {'B':1}\n",
        "print (G)"
      ],
      "execution_count": 4,
      "outputs": [
        {
          "output_type": "stream",
          "text": [
            "{'A': {'B': 1}}\n"
          ],
          "name": "stdout"
        }
      ]
    },
    {
      "cell_type": "markdown",
      "metadata": {
        "id": "hu1B4t2rtpFC",
        "colab_type": "text"
      },
      "source": [
        "## 2. Populating a data structure to store a graph\n",
        "Depth-first search (DFS) is an algorithm for traversing or searching tree or graph data structures. One starts at the root (selecting some arbitrary node as the root in the case of a graph) and explores as far as possible along each branch before backtracking. Depth-first search (DFS) is an algorithm for traversing or searching tree or graph data structures. One starts at the root (selecting some arbitrary node as the root in the case of a graph) and explores as far as possible along each branch before backtracking."
      ]
    },
    {
      "cell_type": "code",
      "metadata": {
        "id": "hlP-583htylS",
        "colab_type": "code",
        "colab": {}
      },
      "source": [
        "def make_link(g,node1,node2): #function to construct the graph in JSOn like format \n",
        "    if node1 not in G:\n",
        "        G[node1]={}\n",
        "    (G[node1])[node2]=1\n",
        "    if node2 not in G:\n",
        "        G[node2]={}\n",
        "    (G[node2])[node1]=1\n",
        "\n",
        "G={} #initializing the empty grapgh\n",
        "connections = [('A','B'),('A','C'),('A','E'),('B','D'),('B','F'),('C','G'),('E','F')] #tuples representing the connections"
      ],
      "execution_count": 0,
      "outputs": []
    },
    {
      "cell_type": "markdown",
      "metadata": {
        "id": "cPj02Vimt1kq",
        "colab_type": "text"
      },
      "source": [
        "## 3. Traversing the graph\n",
        "\n",
        "A standard DFS implementation puts each vertex of the graph into one of two categories:\n",
        "\n",
        "*  Visited\n",
        "*  Not Visited\n",
        "\n",
        "\n",
        "Now let us traverse the above graph using Depth-First-Search. Lets start from node 'A' and then move to any of its neighbouring nodes, lets say node 'C' , mark these nodes when you visit them for the first time , 'C' has only one neighbour 'G', so move to node 'G'. 'G' has no neighbours so now start backtracking, move to the previous node, that is node 'C', node has no more unvisited neighbours, 'G' has already been visited. So now backtrack to 'A' ,since 'C' has already been visited now move on to an unvisited node of 'A' , lets say 'B' , this process repeats till all the nodes of the graph are visited.\n",
        "\n",
        "Check the python code for this:"
      ]
    },
    {
      "cell_type": "code",
      "metadata": {
        "id": "hTZl97t8t18q",
        "colab_type": "code",
        "colab": {
          "base_uri": "https://localhost:8080/",
          "height": 153
        },
        "outputId": "f54acd8d-8508-4492-b80a-e0cb4101e5e8"
      },
      "source": [
        "for x,y in connections:make_link(G,x,y) #constructing the graph using tuple representation\n",
        "\n",
        "print (G)\n",
        "\n",
        "def dfs(G,node,traversed):\n",
        "    traversed[node]=True #mark the traversed node \n",
        "    print (traversed, ':', node)\n",
        "    for neighbour_nodes in G[node]: #take a neighbouring node \n",
        "        if neighbour_nodes not in traversed: #condition to check whether the neighbour node is already visited\n",
        "            dfs(G,neighbour_nodes,traversed) #recursively traverse the neighbouring node\n",
        "\n",
        "def start_traversal(G):\n",
        "    traversed = {} #dictionary to mark the traversed nodes \n",
        "    for node in G.keys(): #G.keys() returns a node from the graph in its iteration\n",
        "        if node not in traversed: #you start traversing from the root node only if its not visited \n",
        "            dfs(G,node,traversed); #for a connected graph this is called only once\n",
        "\n",
        "start_traversal(G)"
      ],
      "execution_count": 7,
      "outputs": [
        {
          "output_type": "stream",
          "text": [
            "{'A': {'B': 1, 'C': 1, 'E': 1}, 'B': {'A': 1, 'D': 1, 'F': 1}, 'C': {'A': 1, 'G': 1}, 'E': {'A': 1, 'F': 1}, 'D': {'B': 1}, 'F': {'B': 1, 'E': 1}, 'G': {'C': 1}}\n",
            "{'A': True} : A\n",
            "{'A': True, 'B': True} : B\n",
            "{'A': True, 'B': True, 'D': True} : D\n",
            "{'A': True, 'B': True, 'D': True, 'F': True} : F\n",
            "{'A': True, 'B': True, 'D': True, 'F': True, 'E': True} : E\n",
            "{'A': True, 'B': True, 'D': True, 'F': True, 'E': True, 'C': True} : C\n",
            "{'A': True, 'B': True, 'D': True, 'F': True, 'E': True, 'C': True, 'G': True} : G\n"
          ],
          "name": "stdout"
        }
      ]
    },
    {
      "cell_type": "markdown",
      "metadata": {
        "id": "4a2UiaBMuA9S",
        "colab_type": "text"
      },
      "source": [
        "The worst case time complexity of DFS is of order n*m , 'n' is the number of nodes and 'm' is no of edges "
      ]
    },
    {
      "cell_type": "markdown",
      "metadata": {
        "id": "Ds-cNlM9zUX0",
        "colab_type": "text"
      },
      "source": [
        "## 4. Backtracking Algorithm\n",
        "\n",
        "The idea is to place queens one by one in different columns, starting from the leftmost column. When we place a queen in a column, we check for clashes with already placed queens. In the current column, if we find a row for which there is no clash, we mark this row and column as part of the solution. If we do not find such a row due to clashes then we backtrack and return false.\n",
        "\n",
        "Steps to follow:\n",
        "\n",
        "1.   Start in the leftmost column\n",
        "2.   If all queens are placed\n",
        "      return true\n",
        "3.   Try all rows in the current column.\n"
      ]
    },
    {
      "cell_type": "code",
      "metadata": {
        "id": "9T6W8VBuzXfY",
        "colab_type": "code",
        "colab": {
          "base_uri": "https://localhost:8080/",
          "height": 102
        },
        "outputId": "6acf1e06-d084-432c-95cf-edab65bce02a"
      },
      "source": [
        "# Python3 program to solve N Queen \n",
        "# Problem using backtracking \n",
        "global N \n",
        "N = 4\n",
        "\n",
        "def printSolution(board): \n",
        "\tfor i in range(N): \n",
        "\t\tfor j in range(N): \n",
        "\t\t\tprint (board[i][j], end = \" \") \n",
        "\t\tprint() \n",
        "\n",
        "# A utility function to check if a queen can \n",
        "# be placed on board[row][col]. Note that this \n",
        "# function is called when \"col\" queens are \n",
        "# already placed in columns from 0 to col -1. \n",
        "# So we need to check only left side for \n",
        "# attacking queens \n",
        "def isSafe(board, row, col): \n",
        "\n",
        "\t# Check this row on left side \n",
        "\tfor i in range(col): \n",
        "\t\tif board[row][i] == 1: \n",
        "\t\t\treturn False\n",
        "\n",
        "\t# Check upper diagonal on left side \n",
        "\tfor i, j in zip(range(row, -1, -1), \n",
        "\t\t\t\t\trange(col, -1, -1)): \n",
        "\t\tif board[i][j] == 1: \n",
        "\t\t\treturn False\n",
        "\n",
        "\t# Check lower diagonal on left side \n",
        "\tfor i, j in zip(range(row, N, 1), \n",
        "\t\t\t\t\trange(col, -1, -1)): \n",
        "\t\tif board[i][j] == 1: \n",
        "\t\t\treturn False\n",
        "\n",
        "\treturn True\n",
        "\n",
        "def solveNQUtil(board, col): \n",
        "\t\n",
        "\t# base case: If all queens are placed \n",
        "\t# then return true \n",
        "\tif col >= N: \n",
        "\t\treturn True\n",
        "\n",
        "\t# Consider this column and try placing \n",
        "\t# this queen in all rows one by one \n",
        "\tfor i in range(N): \n",
        "\n",
        "\t\tif isSafe(board, i, col): \n",
        "\t\t\t\n",
        "\t\t\t# Place this queen in board[i][col] \n",
        "\t\t\tboard[i][col] = 1\n",
        "\n",
        "\t\t\t# recur to place rest of the queens \n",
        "\t\t\tif solveNQUtil(board, col + 1) == True: \n",
        "\t\t\t\treturn True\n",
        "\n",
        "\t\t\t# If placing queen in board[i][col \n",
        "\t\t\t# doesn't lead to a solution, then \n",
        "\t\t\t# queen from board[i][col] \n",
        "\t\t\tboard[i][col] = 0\n",
        "\n",
        "\t# if the queen can not be placed in any row in \n",
        "\t# this colum col then return false \n",
        "\treturn False\n",
        "\n",
        "# This function solves the N Queen problem using \n",
        "# Backtracking. It mainly uses solveNQUtil() to \n",
        "# solve the problem. It returns false if queens \n",
        "# cannot be placed, otherwise return true and \n",
        "# placement of queens in the form of 1s. \n",
        "# note that there may be more than one \n",
        "# solutions, this function prints one of the \n",
        "# feasible solutions. \n",
        "def solveNQ(): \n",
        "\tboard = [ [0, 0, 0, 0], \n",
        "\t\t\t[0, 0, 0, 0], \n",
        "\t\t\t[0, 0, 0, 0], \n",
        "\t\t\t[0, 0, 0, 0] ] \n",
        "\n",
        "\tif solveNQUtil(board, 0) == False: \n",
        "\t\tprint (\"Solution does not exist\") \n",
        "\t\treturn False\n",
        "\n",
        "\tprintSolution(board) \n",
        "\treturn True\n",
        "\n",
        "# Driver Code \n",
        "solveNQ() \n",
        "\n",
        "# This code is contributed by Divyanshu Mehta \n"
      ],
      "execution_count": 8,
      "outputs": [
        {
          "output_type": "stream",
          "text": [
            "0 0 1 0 \n",
            "1 0 0 0 \n",
            "0 0 0 1 \n",
            "0 1 0 0 \n"
          ],
          "name": "stdout"
        },
        {
          "output_type": "execute_result",
          "data": {
            "text/plain": [
              "True"
            ]
          },
          "metadata": {
            "tags": []
          },
          "execution_count": 8
        }
      ]
    },
    {
      "cell_type": "code",
      "metadata": {
        "id": "wqwuZd-k0KcT",
        "colab_type": "code",
        "colab": {}
      },
      "source": [
        ""
      ],
      "execution_count": 0,
      "outputs": []
    }
  ]
}