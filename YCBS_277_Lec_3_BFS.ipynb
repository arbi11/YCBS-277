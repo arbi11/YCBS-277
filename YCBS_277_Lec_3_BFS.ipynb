{
  "nbformat": 4,
  "nbformat_minor": 0,
  "metadata": {
    "colab": {
      "name": "YCBS 277 - Lec 3- BFS.ipynb",
      "provenance": [],
      "collapsed_sections": [],
      "authorship_tag": "ABX9TyOyvSfTPHvp429vI9qwhYEl",
      "include_colab_link": true
    },
    "kernelspec": {
      "name": "python3",
      "display_name": "Python 3"
    }
  },
  "cells": [
    {
      "cell_type": "markdown",
      "metadata": {
        "id": "view-in-github",
        "colab_type": "text"
      },
      "source": [
        "<a href=\"https://colab.research.google.com/github/arbi11/YCBS-277/blob/master/YCBS_277_Lec_3_BFS.ipynb\" target=\"_parent\"><img src=\"https://colab.research.google.com/assets/colab-badge.svg\" alt=\"Open In Colab\"/></a>"
      ]
    },
    {
      "cell_type": "markdown",
      "metadata": {
        "id": "a6gWzmmcYNXK",
        "colab_type": "text"
      },
      "source": [
        "# Breadth First Search\n",
        "\n",
        "BFS implements a specific strategy for visiting all the nodes (vertices) of a graph. BFS starts with a node, then it checks the neighbours of the initial node, then the neighbours of the neighbours, and so on. Two vertices are ‘neighbours’ if they are connected with an edge.\n",
        "\n",
        "Several AI problems can be solved by searching through a great number of solutions. The reasoning process, in these cases, can be reduced to performing a search in a problem space. For using BFS, the problem should be represented as a graph.\n",
        "\n",
        "In this tutorial we will learn:\n",
        "\n",
        "\n",
        "\n",
        "*   Explain how BFS works and outline its advantages/disadvantages.\n",
        "*   Provide an implementation of breadth-first search to traverse a graph.\n",
        "*   Return the shortest path between two nodes of a graph using BFS, with the distance measured in number of edges that separate two vertices.\n",
        "\n",
        "\n",
        "\n",
        "\n"
      ]
    },
    {
      "cell_type": "markdown",
      "metadata": {
        "id": "1B3ayCmLZomr",
        "colab_type": "text"
      },
      "source": [
        "## 1. Graph Data Structure\n",
        "\n",
        "A connected graph with 7 nodes and 7 edges is shown below. The edges are undirected and unweighted.  Distance between two nodes will be measured based on the number of edges separating two vertices.\n",
        "\n",
        "Possible to represent graphs in 2 ways:\n",
        "\n",
        "*   Adjacency matrix - A 2-D matrix (good for dense graphs)\n",
        "*   Adjacency list - like a dictionary in Python (useful for sparse graphs)\n",
        "\n",
        "\n",
        "\n",
        "\n"
      ]
    },
    {
      "cell_type": "code",
      "metadata": {
        "id": "7wD1v10kYIZs",
        "colab_type": "code",
        "colab": {}
      },
      "source": [
        "# sample graph implemented as a dictionary\n",
        "graph = {'A': ['B', 'C', 'E'],\n",
        "         'B': ['A','D', 'E'],\n",
        "         'C': ['A', 'F', 'G'],\n",
        "         'D': ['B'],\n",
        "         'E': ['A', 'B','D'],\n",
        "         'F': ['C'],\n",
        "         'G': ['C']}"
      ],
      "execution_count": 0,
      "outputs": []
    },
    {
      "cell_type": "markdown",
      "metadata": {
        "id": "IFAkcDWVadep",
        "colab_type": "text"
      },
      "source": [
        "the first element of the dictionary above  tells us that node ‘A’ is connected with node ‘B’, ‘C’ and ‘E’. Check figure above to verify."
      ]
    },
    {
      "cell_type": "markdown",
      "metadata": {
        "id": "3iPBJ5fZan0J",
        "colab_type": "text"
      },
      "source": [
        "BFS visits all the nodes of a graph (connected component) following a breadthward motion. In other words, BFS starts from a node, then it checks all the nodes at distance one from the starting node, then it checks all the nodes at distance two and so on.\n",
        "\n",
        "In order to remember the nodes to be visited, BFS uses a queue, based on FIFO (First In, First Out). The algorithm can keep track of the vertices it has already checked to avoid revisiting them, in case a graph had one or more cycles.\n",
        "\n",
        "BFS can be implemented through following steps:\n",
        "\n",
        "1.   Start with the initial node and add its neighbours to the queue.\n",
        "2.   Mark the starting node as **EXPLORED**.\n",
        "3.   Extract the first node from the queue.\n",
        "4.   If node not already visited, add neighbours to the queue.\n",
        "5.   Mark this node as **EXPLORED**.\n",
        "6.   Repeat steps 3-5 for all the nodes in the queue.\n",
        "\n"
      ]
    },
    {
      "cell_type": "markdown",
      "metadata": {
        "id": "XTcaH3G0cBvr",
        "colab_type": "text"
      },
      "source": [
        "## 2. Traversing the graph\n",
        "\n",
        "Taking the example for the graph shown earlier, the nodes will be visited in the order shown below.\n",
        "\n",
        "From python pov, we initialize a couple of lists that will be necessary to maintain information related to explored/unexplored nodes.\n",
        "\n",
        "\n"
      ]
    },
    {
      "cell_type": "code",
      "metadata": {
        "id": "xx7ZZU2YaZbt",
        "colab_type": "code",
        "colab": {}
      },
      "source": [
        "# visits all the nodes of a graph (connected component) using BFS\n",
        "def bfs_connected_component(graph, start):\n",
        "    # keep track of all visited nodes\n",
        "    explored = []\n",
        "    # keep track of nodes to be checked\n",
        "    queue = [start]"
      ],
      "execution_count": 0,
      "outputs": []
    },
    {
      "cell_type": "markdown",
      "metadata": {
        "id": "wwgEG1tadycb",
        "colab_type": "text"
      },
      "source": [
        "## 3. Exploring nodes\n",
        "\n",
        "The next step is to implement a loop that keeps cycling until queue is empty. At each iteration of the loop, a node is checked.  If this wasn’t visited already, its neighbours are added to queue."
      ]
    },
    {
      "cell_type": "code",
      "metadata": {
        "id": "tKz3y8Qnd_gJ",
        "colab_type": "code",
        "colab": {}
      },
      "source": [
        "# visits all the nodes of a graph (connected component) using BFS\n",
        "def bfs_connected_component(graph, start):\n",
        "    # keep track of all visited nodes\n",
        "    explored = []\n",
        "    # keep track of nodes to be checked\n",
        "    queue = [start]\n",
        " \n",
        "    # keep looping until there are nodes still to be checked\n",
        "    while queue:\n",
        "        # pop shallowest node (first node) from queue\n",
        "        node = queue.pop(0)\n",
        "        if node not in explored:\n",
        "            # add node to list of checked nodes\n",
        "            explored.append(node)\n",
        "            neighbours = graph[node]\n",
        " \n",
        "            # add neighbours of node to queue\n",
        "            for neighbour in neighbours:\n",
        "                queue.append(neighbour)\n",
        "    return explored\n",
        " \n",
        "bfs_connected_component(graph,'A') # returns ['A', 'B', 'C', 'E', 'D', 'F', 'G']\n"
      ],
      "execution_count": 0,
      "outputs": []
    },
    {
      "cell_type": "markdown",
      "metadata": {
        "id": "ITvxfiJ7eIhD",
        "colab_type": "text"
      },
      "source": [
        "## 4. Shortest path\n",
        "\n",
        "The nice thing about BFS is that it always returns the shortest path, even if there is more than one path that links two vertices.\n",
        "\n",
        "There are a couple of main differences between the implementations of BFS for traversing a graph and for finding the shortest path. \n",
        "\n",
        "*   First, in case of the shortest path application, we need for the queue to keep track of possible paths (implemented as list of nodes) instead of nodes.\n",
        "\n",
        "*   Second, when the algorithm checks for a neighbour node, it needs to check whether the neighbour node corresponds to the goal node. If that’s the case, we have a solution and there’s no need to keep exploring the graph."
      ]
    },
    {
      "cell_type": "code",
      "metadata": {
        "id": "VD1-0i_eewhy",
        "colab_type": "code",
        "colab": {}
      },
      "source": [
        "# finds shortest path between 2 nodes of a graph using BFS\n",
        "def bfs_shortest_path(graph, start, goal):\n",
        "    # keep track of explored nodes\n",
        "    explored = []\n",
        "    # keep track of all the paths to be checked\n",
        "    queue = [[start]]\n",
        " \n",
        "    # return path if start is goal\n",
        "    if start == goal:\n",
        "        return \"That was easy! Start = goal\"\n",
        " \n",
        "    # keeps looping until all possible paths have been checked\n",
        "    while queue:\n",
        "        # pop the first path from the queue\n",
        "        path = queue.pop(0)\n",
        "        # get the last node from the path\n",
        "        node = path[-1]\n",
        "        if node not in explored:\n",
        "            neighbours = graph[node]\n",
        "            # go through all neighbour nodes, construct a new path and\n",
        "            # push it into the queue\n",
        "            for neighbour in neighbours:\n",
        "                new_path = list(path)\n",
        "                new_path.append(neighbour)\n",
        "                queue.append(new_path)\n",
        "                # return path if neighbour is goal\n",
        "                if neighbour == goal:\n",
        "                    return new_path\n",
        " \n",
        "            # mark node as explored\n",
        "            explored.append(node)\n",
        " \n",
        "    # in case there's no path between the 2 nodes\n",
        "    return \"So sorry, but a connecting path doesn't exist :(\"\n",
        " \n",
        "bfs_shortest_path(graph, 'G', 'D')  # returns ['G', 'C', 'A', 'B', 'D']\n"
      ],
      "execution_count": 0,
      "outputs": []
    },
    {
      "cell_type": "markdown",
      "metadata": {
        "id": "WE3IJ_-DfVTg",
        "colab_type": "text"
      },
      "source": [
        "## 5. Advantages & Disadvantages of BFS\n",
        "\n",
        "Advantages: \n",
        "\n",
        "\n",
        "*   Complete: is always able to find a solution to a problem, if there is one.\n",
        "*   Easy to implement\n",
        "\n",
        "Disadvatages:\n",
        "\n",
        "\n",
        "\n",
        "*   Completeness is a nice-to-have feature for an algorithm, but in case of BFS it comes to a high cost.\n",
        "*   A graph may contain cycles.\n",
        "*   Time complexity of the algorithm is exponential.\n",
        "*   Since BFS has to keep track of all of the nodes, memory requirements are huge. For solving Rubik's cube, BFS needs 10 Zetabytes ($10^{21}$ bytes) RAM. \n",
        "\n",
        "\n",
        "\n"
      ]
    },
    {
      "cell_type": "markdown",
      "metadata": {
        "id": "zmhQoWqqgUAT",
        "colab_type": "text"
      },
      "source": [
        "## 6. Applications\n",
        "\n",
        "\n",
        "\n",
        "*   Shortest path of unweighted graphs (CODED here).\n",
        "*   Discover all nodes reachable from an initial vertex (CODED here).\n",
        "*   Find neighbour nodes in peer to peer networks like BitTorrent.\n",
        "*   Used by crawlers in search engines to visit links on a webpage, and keep doing the same recursively.\n",
        "*   Find people at a given distance from a person in social networks.\n",
        "*   Search whether there’s a path between two nodes of a graph (path finding).\n",
        "*   Allow broadcasted packets to reach all nodes of a network.\n",
        "\n",
        "\n"
      ]
    }
  ]
}